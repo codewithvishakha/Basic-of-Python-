{
 "cells": [
  {
   "cell_type": "code",
   "execution_count": 1,
   "metadata": {},
   "outputs": [
    {
     "data": {
      "text/plain": [
       "' This too is\\nmulti line comment '"
      ]
     },
     "execution_count": 1,
     "metadata": {},
     "output_type": "execute_result"
    }
   ],
   "source": [
    "# for single line comment\n",
    "\n",
    "\n",
    "\n",
    "'''This is also \n",
    "perfect example of\n",
    "multi line comments'''\n",
    "\n",
    "\n",
    "\n",
    "\"\"\" This too is\n",
    "multi line comment \"\"\"\n"
   ]
  },
  {
   "cell_type": "code",
   "execution_count": 2,
   "metadata": {},
   "outputs": [],
   "source": [
    "# Variable assignments\n",
    "a=10\n",
    "b=20\n",
    "\n",
    "a=5;d=10 # multiple statement in a single line\n",
    "\n",
    "b,c=3.2,\"Hello\" # multiple variable in a single statement\n",
    "\n",
    "x=y=z=\"World\" # multiple variable with a single value\n"
   ]
  },
  {
   "cell_type": "code",
   "execution_count": 3,
   "metadata": {},
   "outputs": [
    {
     "name": "stdout",
     "output_type": "stream",
     "text": [
      "Hello\n",
      "\n",
      "Value of a= 5\n",
      "value of a= \n",
      " 5\n",
      "3.2 Hello\n",
      "3.2@Hello\n"
     ]
    },
    {
     "data": {
      "text/plain": [
       "'Hello'"
      ]
     },
     "execution_count": 3,
     "metadata": {},
     "output_type": "execute_result"
    }
   ],
   "source": [
    "# Displaying the values store in variables\n",
    "\n",
    "print(c)\n",
    "print()\n",
    "print (\"Value of a=\",a)\n",
    "print (\"value of a= \\n\",a)\n",
    "print(b,c)\n",
    "print(b,c,sep=\"@\")\n",
    "c"
   ]
  },
  {
   "cell_type": "code",
   "execution_count": 4,
   "metadata": {},
   "outputs": [
    {
     "name": "stdout",
     "output_type": "stream",
     "text": [
      "<class 'float'>\n"
     ]
    }
   ],
   "source": [
    "print(type(b))"
   ]
  },
  {
   "cell_type": "code",
   "execution_count": 5,
   "metadata": {},
   "outputs": [
    {
     "name": "stdout",
     "output_type": "stream",
     "text": [
      "8.2\n"
     ]
    }
   ],
   "source": [
    "#opertaions on veriables\n",
    "\n",
    "print(a+b)   #a=5 b=3.2"
   ]
  },
  {
   "cell_type": "code",
   "execution_count": 6,
   "metadata": {},
   "outputs": [
    {
     "name": "stdout",
     "output_type": "stream",
     "text": [
      "16.0\n"
     ]
    }
   ],
   "source": [
    "print (a*b)"
   ]
  },
  {
   "cell_type": "code",
   "execution_count": 7,
   "metadata": {},
   "outputs": [
    {
     "name": "stdout",
     "output_type": "stream",
     "text": [
      "2.0\n"
     ]
    }
   ],
   "source": [
    "div = d/a #d=10, a=5\n",
    "print(d/a)"
   ]
  },
  {
   "cell_type": "code",
   "execution_count": 8,
   "metadata": {},
   "outputs": [],
   "source": [
    "e=5.8"
   ]
  },
  {
   "cell_type": "code",
   "execution_count": 9,
   "metadata": {},
   "outputs": [
    {
     "name": "stdout",
     "output_type": "stream",
     "text": [
      "2.0\n"
     ]
    }
   ],
   "source": [
    "print(e//2) #floored dividion"
   ]
  },
  {
   "cell_type": "code",
   "execution_count": 10,
   "metadata": {},
   "outputs": [
    {
     "name": "stdout",
     "output_type": "stream",
     "text": [
      "0\n"
     ]
    }
   ],
   "source": [
    "print(d%a) # modulus division return the remainder"
   ]
  },
  {
   "cell_type": "code",
   "execution_count": 11,
   "metadata": {},
   "outputs": [
    {
     "name": "stdout",
     "output_type": "stream",
     "text": [
      "1.7999999999999998\n"
     ]
    }
   ],
   "source": [
    "print(a-b)"
   ]
  },
  {
   "cell_type": "code",
   "execution_count": 12,
   "metadata": {},
   "outputs": [
    {
     "name": "stdout",
     "output_type": "stream",
     "text": [
      "1.8\n",
      "2.939\n"
     ]
    }
   ],
   "source": [
    "print(round(a-b,4))      #using round function\n",
    "e=5.87809\n",
    "print(round(e/2,3))"
   ]
  },
  {
   "cell_type": "code",
   "execution_count": 13,
   "metadata": {},
   "outputs": [
    {
     "name": "stdout",
     "output_type": "stream",
     "text": [
      "25\n"
     ]
    }
   ],
   "source": [
    "print(a**2) #exponentiation"
   ]
  },
  {
   "cell_type": "code",
   "execution_count": 14,
   "metadata": {},
   "outputs": [
    {
     "name": "stdout",
     "output_type": "stream",
     "text": [
      "<class 'float'>\n",
      "8.2\n",
      "53.2\n",
      "<class 'str'>\n"
     ]
    }
   ],
   "source": [
    "# python does type inferencing automatically\n",
    "a=5\n",
    "b=3.2\n",
    "print(type(b))    #return the datatype os the object\n",
    "print(a+b)\n",
    "\n",
    "\n",
    "a=\"5\"           # using as string function \n",
    "b=\"3.2\"\n",
    "print(a+b) # + act line a concatenation operator\n",
    "print (type(b))"
   ]
  },
  {
   "cell_type": "code",
   "execution_count": 15,
   "metadata": {
    "collapsed": true
   },
   "outputs": [
    {
     "data": {
      "text/plain": [
       "['__doc__',\n",
       " '__loader__',\n",
       " '__name__',\n",
       " '__package__',\n",
       " '__spec__',\n",
       " 'acos',\n",
       " 'acosh',\n",
       " 'asin',\n",
       " 'asinh',\n",
       " 'atan',\n",
       " 'atan2',\n",
       " 'atanh',\n",
       " 'ceil',\n",
       " 'comb',\n",
       " 'copysign',\n",
       " 'cos',\n",
       " 'cosh',\n",
       " 'degrees',\n",
       " 'dist',\n",
       " 'e',\n",
       " 'erf',\n",
       " 'erfc',\n",
       " 'exp',\n",
       " 'expm1',\n",
       " 'fabs',\n",
       " 'factorial',\n",
       " 'floor',\n",
       " 'fmod',\n",
       " 'frexp',\n",
       " 'fsum',\n",
       " 'gamma',\n",
       " 'gcd',\n",
       " 'hypot',\n",
       " 'inf',\n",
       " 'isclose',\n",
       " 'isfinite',\n",
       " 'isinf',\n",
       " 'isnan',\n",
       " 'isqrt',\n",
       " 'lcm',\n",
       " 'ldexp',\n",
       " 'lgamma',\n",
       " 'log',\n",
       " 'log10',\n",
       " 'log1p',\n",
       " 'log2',\n",
       " 'modf',\n",
       " 'nan',\n",
       " 'nextafter',\n",
       " 'perm',\n",
       " 'pi',\n",
       " 'pow',\n",
       " 'prod',\n",
       " 'radians',\n",
       " 'remainder',\n",
       " 'sin',\n",
       " 'sinh',\n",
       " 'sqrt',\n",
       " 'tan',\n",
       " 'tanh',\n",
       " 'tau',\n",
       " 'trunc',\n",
       " 'ulp']"
      ]
     },
     "execution_count": 15,
     "metadata": {},
     "output_type": "execute_result"
    }
   ],
   "source": [
    "import math\n",
    "dir(math)"
   ]
  },
  {
   "cell_type": "code",
   "execution_count": 16,
   "metadata": {},
   "outputs": [
    {
     "name": "stdout",
     "output_type": "stream",
     "text": [
      "5.0\n",
      "5\n",
      "3.141592653589793\n"
     ]
    }
   ],
   "source": [
    "print(math.sqrt(25))\n",
    "print(math.floor(5.876))\n",
    "print(math.pi)"
   ]
  },
  {
   "cell_type": "code",
   "execution_count": 17,
   "metadata": {},
   "outputs": [
    {
     "name": "stdout",
     "output_type": "stream",
     "text": [
      "Area of circle with radius 8 is = \t 201.0619\n"
     ]
    }
   ],
   "source": [
    "r=8\n",
    "area=math.pi*r*r\n",
    "print(\"Area of circle with radius\",r,\"is = \\t\", round(area,4))"
   ]
  },
  {
   "cell_type": "code",
   "execution_count": 18,
   "metadata": {},
   "outputs": [
    {
     "name": "stdout",
     "output_type": "stream",
     "text": [
      "Enter your name vishakha joshi\n",
      "HELLO vishakha joshi\n"
     ]
    }
   ],
   "source": [
    "# user input at runtime\n",
    "name=input(\"Enter your name \")\n",
    "print(\"HELLO\",name)"
   ]
  },
  {
   "cell_type": "code",
   "execution_count": 19,
   "metadata": {},
   "outputs": [
    {
     "name": "stdout",
     "output_type": "stream",
     "text": [
      "Enter the radius 8\n",
      "Area of circle with radius 8.0 is = \t 201.0619\n"
     ]
    }
   ],
   "source": [
    "r=float(input(\"Enter the radius \"))    \n",
    "area=math.pi*r*r\n",
    "print(\"Area of circle with radius\",r,\"is = \\t\", round(area,4))"
   ]
  },
  {
   "cell_type": "code",
   "execution_count": 21,
   "metadata": {},
   "outputs": [
    {
     "name": "stdout",
     "output_type": "stream",
     "text": [
      "enter first num 26\n",
      "enter second num 32\n",
      "multiplication is  832.0\n"
     ]
    }
   ],
   "source": [
    "num1=float(input(\"enter first num \"))\n",
    "num2=float(input(\"enter second num \"))\n",
    "value = num1*num2\n",
    "print(\"multiplication is \",value)"
   ]
  },
  {
   "cell_type": "code",
   "execution_count": 23,
   "metadata": {},
   "outputs": [
    {
     "name": "stdout",
     "output_type": "stream",
     "text": [
      "Yes\n"
     ]
    }
   ],
   "source": [
    "a=5\n",
    "if a<10:\n",
    "    print(\"Yes\")\n",
    "else:\n",
    "    print(\"No\")"
   ]
  },
  {
   "cell_type": "code",
   "execution_count": 28,
   "metadata": {},
   "outputs": [
    {
     "name": "stdout",
     "output_type": "stream",
     "text": [
      "x is greater than y\n",
      "End of block\n",
      "Done\n"
     ]
    }
   ],
   "source": [
    "#condition Execution statement\n",
    "#is-else\n",
    "x=7\n",
    "y=5\n",
    "if x>y:\n",
    "    print(\"x is greater than y\")\n",
    "    print(\"End of block\")\n",
    "else:\n",
    "    print(\"y is greater than x\")\n",
    "print(\"Done\")"
   ]
  },
  {
   "cell_type": "code",
   "execution_count": 29,
   "metadata": {},
   "outputs": [
    {
     "name": "stdout",
     "output_type": "stream",
     "text": [
      "x is greater than y\n",
      "Done\n"
     ]
    }
   ],
   "source": [
    "#Nested if-else\n",
    "\n",
    "if x==y:\n",
    "    print(\"x is equal ro y\")\n",
    "else:\n",
    "    if x<y:\n",
    "        print(\"x is less than y\")\n",
    "    else:\n",
    "        print(\"x is greater than y\")\n",
    "print(\"Done\")"
   ]
  },
  {
   "cell_type": "code",
   "execution_count": 31,
   "metadata": {},
   "outputs": [
    {
     "name": "stdout",
     "output_type": "stream",
     "text": [
      "This is the Second salary bracket\n",
      "Employee belong to Medium Income Group\n",
      "Done\n"
     ]
    }
   ],
   "source": [
    "#if-elif-elif-esle ladder\n",
    "\n",
    "salary=60000\n",
    "if salary<=30000:\n",
    "    print(\"This is the first salary bracket\")\n",
    "    print(\"Employee belong to low Income Group\")\n",
    "elif salary<=60000:\n",
    "    print(\"This is the Second salary bracket\")\n",
    "    print(\"Employee belong to Medium Income Group\")\n",
    "elif salary<=100000:\n",
    "    print(\"This is the Third salary bracket\")\n",
    "    print(\"Employee belong to High Income Group\")\n",
    "else:\n",
    "    print(\"This is the Fourth salary bracket\")\n",
    "    print(\"Employee belong to Very High Income Group\")\n",
    "print(\"Done\")"
   ]
  },
  {
   "cell_type": "code",
   "execution_count": 33,
   "metadata": {},
   "outputs": [
    {
     "name": "stdout",
     "output_type": "stream",
     "text": [
      "Enter your salary 750000\n",
      "This is the Fourth salary bracket\n",
      "Employee belong to Very High Income Group\n",
      "Done\n"
     ]
    }
   ],
   "source": [
    "salary=float(input(\"Enter your salary \"))\n",
    "if salary<=300000:\n",
    "    print(\"This is the first salary bracket\")\n",
    "    print(\"Employee belong to low Income Group\")\n",
    "elif salary<=60000:\n",
    "    print(\"This is the Second salary bracket\")\n",
    "    print(\"Employee belong to Medium Income Group\")\n",
    "elif salary<=100000:\n",
    "    print(\"This is the Third salary bracket\")\n",
    "    print(\"Employee belong to High Income Group\")\n",
    "else:\n",
    "    print(\"This is the Fourth salary bracket\")\n",
    "    print(\"Employee belong to Very High Income Group\")\n",
    "print(\"Done\")"
   ]
  },
  {
   "cell_type": "code",
   "execution_count": 39,
   "metadata": {},
   "outputs": [
    {
     "name": "stdout",
     "output_type": "stream",
     "text": [
      "Certificate of Excellence\n",
      "Done\n"
     ]
    }
   ],
   "source": [
    "score=92\n",
    "if score>90:\n",
    "    print(\"Certificate of Excellence\")\n",
    "elif score<80:\n",
    "    print(\"Certificate of Achievement\")\n",
    "elif score<70:\n",
    "    print(\"Certifiacte of Completion\")\n",
    "elif score<50:\n",
    "    print(\"Certificate of Partipation\")\n",
    "else:\n",
    "    print(\"Fail\")\n",
    "print(\"Done\")"
   ]
  },
  {
   "cell_type": "code",
   "execution_count": 40,
   "metadata": {},
   "outputs": [
    {
     "name": "stdout",
     "output_type": "stream",
     "text": [
      "Enter your score:130\n",
      "Your entered an invalid value\n"
     ]
    }
   ],
   "source": [
    "score=float(input(\"Enter your score:\"))\n",
    "\n",
    "if score>0 and score<=100:\n",
    "    if score<50:\n",
    "        print(\"Certificate of Partipation\")\n",
    "    elif score<70:\n",
    "        print(\"Certificatr of Completion \")\n",
    "    elif score<90:\n",
    "        print(\"Certificate of Achievement\")\n",
    "    else:\n",
    "         print(\"Certificate of Excellence\")\n",
    "else: \n",
    "    print (\"Your entered an invalid value\")"
   ]
  },
  {
   "cell_type": "code",
   "execution_count": 41,
   "metadata": {},
   "outputs": [
    {
     "name": "stdout",
     "output_type": "stream",
     "text": [
      "x is positive single digit number\n"
     ]
    }
   ],
   "source": [
    "#LOGICAL OPERATOR\n",
    "\n",
    "\n",
    "# & ----> AND both contion should be true\n",
    "# | -----> OR either one condition should be true\n",
    "# !-----> NOT\n",
    "\n",
    "\n",
    "# Multiple condition evaluation\n",
    "x=9;y=6\n",
    "if (x>7)|(y>7):\n",
    "    #T OR F ---> T\n",
    "    print(\"x is positive single digit number\")\n"
   ]
  },
  {
   "cell_type": "code",
   "execution_count": 42,
   "metadata": {},
   "outputs": [
    {
     "name": "stdout",
     "output_type": "stream",
     "text": [
      "x is positive single digit numaber\n"
     ]
    }
   ],
   "source": [
    "# multiple condition evaluation \n",
    "x=5;y=8\n",
    "if((x>7)&(y>7))|(x!=y):\n",
    "    #(F and T) or T\n",
    "    # F or T ---->T\n",
    "    print(\"x is positive single digit numaber\")"
   ]
  },
  {
   "cell_type": "code",
   "execution_count": 43,
   "metadata": {},
   "outputs": [
    {
     "name": "stdout",
     "output_type": "stream",
     "text": [
      "5\n",
      "<class 'int'>\n",
      "b\n",
      "10\n",
      "<class 'str'>\n"
     ]
    }
   ],
   "source": [
    "a=\"5\"\n",
    "num=int(a)\n",
    "print(num)\n",
    "print(type(num))\n",
    "\n",
    "a=chr(98)   # uses the ASCII values to fetch the character\n",
    "print(a)\n",
    "\n",
    "b=str(10)  #convert the numarical value to a string\n",
    "print(b)\n",
    "print(type(b))\n"
   ]
  },
  {
   "cell_type": "code",
   "execution_count": 2,
   "metadata": {},
   "outputs": [
    {
     "name": "stdout",
     "output_type": "stream",
     "text": [
      "The Given Number is Odd\n"
     ]
    }
   ],
   "source": [
    "## check is a given number is odd or even \n",
    "\n",
    "num=15\n",
    "if num%2==0:\n",
    "    print(\"The Given number is Even\")\n",
    "else:\n",
    "    print(\"The Given Number is Odd\")"
   ]
  },
  {
   "cell_type": "code",
   "execution_count": 6,
   "metadata": {},
   "outputs": [
    {
     "name": "stdout",
     "output_type": "stream",
     "text": [
      "Enter the value = 35.2\n",
      "The Given Number is Odd\n"
     ]
    }
   ],
   "source": [
    "num=float(input(\"Enter the value = \"))     # user inpute \n",
    "if num%2==0:\n",
    "    print(\"The Given number is Even\")\n",
    "else:\n",
    "    print(\"The Given Number is Odd\")"
   ]
  },
  {
   "cell_type": "code",
   "execution_count": 7,
   "metadata": {},
   "outputs": [],
   "source": [
    "#user define function (UDF)\n",
    "\n",
    "def greeting(): #defining the function as greeting ---->user difine function\n",
    "    print(\"Hello User\")\n",
    "    print(\"Hoe are you\")\n"
   ]
  },
  {
   "cell_type": "code",
   "execution_count": 8,
   "metadata": {},
   "outputs": [
    {
     "name": "stdout",
     "output_type": "stream",
     "text": [
      "Hello User\n",
      "Hoe are you\n"
     ]
    }
   ],
   "source": [
    "greeting() # call function "
   ]
  },
  {
   "cell_type": "code",
   "execution_count": 9,
   "metadata": {},
   "outputs": [],
   "source": [
    "def calc(a,b):\n",
    "    print(a*b)\n",
    "    print(a-b)\n",
    "    print(a+b)"
   ]
  },
  {
   "cell_type": "code",
   "execution_count": 15,
   "metadata": {},
   "outputs": [
    {
     "name": "stdout",
     "output_type": "stream",
     "text": [
      "15\n",
      "2\n",
      "8\n",
      "Enter num1 = 25\n",
      "Enter num2 = 16\n",
      "400.0\n",
      "9.0\n",
      "41.0\n"
     ]
    }
   ],
   "source": [
    "calc(5,3)\n",
    "num1=float(input(\"Enter num1 = \"))\n",
    "num2=float(input(\"Enter num2 = \"))\n",
    "calc(num1,num2)"
   ]
  },
  {
   "cell_type": "code",
   "execution_count": 17,
   "metadata": {},
   "outputs": [
    {
     "name": "stdout",
     "output_type": "stream",
     "text": [
      "Value is =  56\n",
      "the cube is =  175616\n"
     ]
    }
   ],
   "source": [
    "def cube(a):\n",
    "    print(\"Value is = \",a)\n",
    "    print(\"the cube is = \",a*a*a)\n",
    "cube(56)"
   ]
  },
  {
   "cell_type": "code",
   "execution_count": 18,
   "metadata": {},
   "outputs": [
    {
     "name": "stdout",
     "output_type": "stream",
     "text": [
      "Value is =  10\n",
      "the cube is =  1000\n",
      "Value is =  20\n",
      "the cube is =  8000\n",
      "Enter a Number :15\n",
      "Value is =  15.0\n",
      "the cube is =  3375.0\n"
     ]
    }
   ],
   "source": [
    "cube(10)\n",
    "cube(20)\n",
    "\n",
    "num=float(input(\"Enter a Number :\"))\n",
    "cube(num)"
   ]
  },
  {
   "cell_type": "code",
   "execution_count": 19,
   "metadata": {},
   "outputs": [],
   "source": [
    "# return statemet in user define function\n",
    "\n",
    "def cube(a):\n",
    "    print(\"Value is = \",a)   #simply print the output like a message\n",
    "    return a*a*a   #allows us to return a value that can be stored and used leter"
   ]
  },
  {
   "cell_type": "code",
   "execution_count": 20,
   "metadata": {},
   "outputs": [
    {
     "name": "stdout",
     "output_type": "stream",
     "text": [
      "Value is =  10\n"
     ]
    },
    {
     "data": {
      "text/plain": [
       "1000"
      ]
     },
     "execution_count": 20,
     "metadata": {},
     "output_type": "execute_result"
    }
   ],
   "source": [
    "cube(10)"
   ]
  },
  {
   "cell_type": "code",
   "execution_count": 21,
   "metadata": {},
   "outputs": [
    {
     "name": "stdout",
     "output_type": "stream",
     "text": [
      "Value is =  7\n",
      "1543.5\n"
     ]
    }
   ],
   "source": [
    "b=cube(7)\n",
    "print(b*4.5)"
   ]
  },
  {
   "cell_type": "code",
   "execution_count": 22,
   "metadata": {},
   "outputs": [],
   "source": [
    "def hi():\n",
    "    print(\"Hello User!\")\n",
    "    a=10  # local veriable define the function .\n",
    "    b=20\n",
    "    print(a*b)"
   ]
  },
  {
   "cell_type": "code",
   "execution_count": 23,
   "metadata": {},
   "outputs": [
    {
     "name": "stdout",
     "output_type": "stream",
     "text": [
      "Hello User!\n",
      "200\n"
     ]
    }
   ],
   "source": [
    "hi()"
   ]
  },
  {
   "cell_type": "code",
   "execution_count": 24,
   "metadata": {},
   "outputs": [
    {
     "ename": "NameError",
     "evalue": "name 'a' is not defined",
     "output_type": "error",
     "traceback": [
      "\u001b[1;31m---------------------------------------------------------------------------\u001b[0m",
      "\u001b[1;31mNameError\u001b[0m                                 Traceback (most recent call last)",
      "\u001b[1;32m~\\AppData\\Local\\Temp\\ipykernel_9352\\2167009006.py\u001b[0m in \u001b[0;36m<module>\u001b[1;34m\u001b[0m\n\u001b[1;32m----> 1\u001b[1;33m \u001b[0ma\u001b[0m\u001b[1;33m\u001b[0m\u001b[1;33m\u001b[0m\u001b[0m\n\u001b[0m",
      "\u001b[1;31mNameError\u001b[0m: name 'a' is not defined"
     ]
    }
   ],
   "source": [
    "a # a was a local variable and not a global variable hence will return an error"
   ]
  },
  {
   "cell_type": "code",
   "execution_count": 25,
   "metadata": {},
   "outputs": [],
   "source": [
    "#check multiple number even or odd\n",
    "\n",
    "def oddeven(i):\n",
    "    if i%2==0:\n",
    "        print(i,\"is Even\")\n",
    "    else:\n",
    "        print(i,\"is Odd\")\n",
    "    \n",
    "\n",
    "  "
   ]
  },
  {
   "cell_type": "code",
   "execution_count": 26,
   "metadata": {},
   "outputs": [
    {
     "name": "stdout",
     "output_type": "stream",
     "text": [
      "Enter a value = 23\n",
      "23 is Odd\n"
     ]
    }
   ],
   "source": [
    "num=int(input(\"Enter a value = \"))\n",
    "oddeven(num)"
   ]
  },
  {
   "cell_type": "code",
   "execution_count": 27,
   "metadata": {},
   "outputs": [
    {
     "name": "stdout",
     "output_type": "stream",
     "text": [
      "30 is Even\n"
     ]
    }
   ],
   "source": [
    "oddeven(30)"
   ]
  },
  {
   "cell_type": "markdown",
   "metadata": {},
   "source": [
    "# Loops\n",
    "1.While loop\n",
    "\n",
    "2.For loop"
   ]
  },
  {
   "cell_type": "code",
   "execution_count": 28,
   "metadata": {},
   "outputs": [
    {
     "name": "stdout",
     "output_type": "stream",
     "text": [
      "1\n",
      "2\n",
      "3\n",
      "4\n",
      "5\n",
      "6\n",
      "7\n",
      "8\n",
      "9\n",
      "10\n"
     ]
    }
   ],
   "source": [
    "# loops\n",
    "# while loop\n",
    "i=1\n",
    "while(i<=10):\n",
    "    print(i)\n",
    "    i=i+1"
   ]
  },
  {
   "cell_type": "code",
   "execution_count": 29,
   "metadata": {
    "collapsed": true
   },
   "outputs": [
    {
     "name": "stdout",
     "output_type": "stream",
     "text": [
      "100\n",
      "99\n",
      "98\n",
      "97\n",
      "96\n",
      "95\n",
      "94\n",
      "93\n",
      "92\n",
      "91\n",
      "90\n",
      "89\n",
      "88\n",
      "87\n",
      "86\n",
      "85\n",
      "84\n",
      "83\n",
      "82\n",
      "81\n",
      "80\n",
      "79\n",
      "78\n",
      "77\n",
      "76\n",
      "75\n",
      "74\n",
      "73\n",
      "72\n",
      "71\n",
      "70\n",
      "69\n",
      "68\n",
      "67\n",
      "66\n",
      "65\n",
      "64\n",
      "63\n",
      "62\n",
      "61\n",
      "60\n",
      "59\n",
      "58\n",
      "57\n",
      "56\n",
      "55\n",
      "54\n",
      "53\n",
      "52\n",
      "51\n",
      "50\n",
      "49\n",
      "48\n",
      "47\n",
      "46\n",
      "45\n",
      "44\n",
      "43\n",
      "42\n",
      "41\n",
      "40\n",
      "39\n",
      "38\n",
      "37\n",
      "36\n",
      "35\n",
      "34\n",
      "33\n",
      "32\n",
      "31\n",
      "30\n",
      "29\n",
      "28\n",
      "27\n",
      "26\n",
      "25\n",
      "24\n",
      "23\n",
      "22\n",
      "21\n",
      "20\n",
      "19\n",
      "18\n",
      "17\n",
      "16\n",
      "15\n",
      "14\n",
      "13\n",
      "12\n",
      "11\n",
      "10\n",
      "9\n",
      "8\n",
      "7\n",
      "6\n",
      "5\n",
      "4\n",
      "3\n",
      "2\n",
      "1\n"
     ]
    }
   ],
   "source": [
    "#print 1-100 number decrement\n",
    "i=100\n",
    "while(i>=1):\n",
    "    print(i)\n",
    "    i=i-1"
   ]
  },
  {
   "cell_type": "code",
   "execution_count": 1,
   "metadata": {
    "collapsed": true
   },
   "outputs": [
    {
     "name": "stdout",
     "output_type": "stream",
     "text": [
      "1 Is an Odd number\n",
      "2 Is an Even number\n",
      "3 Is an Odd number\n",
      "4 Is an Even number\n",
      "5 Is an Odd number\n",
      "6 Is an Even number\n",
      "7 Is an Odd number\n",
      "8 Is an Even number\n",
      "9 Is an Odd number\n",
      "10 Is an Even number\n",
      "11 Is an Odd number\n",
      "12 Is an Even number\n",
      "13 Is an Odd number\n",
      "14 Is an Even number\n",
      "15 Is an Odd number\n",
      "16 Is an Even number\n",
      "17 Is an Odd number\n",
      "18 Is an Even number\n",
      "19 Is an Odd number\n",
      "20 Is an Even number\n",
      "21 Is an Odd number\n",
      "22 Is an Even number\n",
      "23 Is an Odd number\n",
      "24 Is an Even number\n",
      "25 Is an Odd number\n",
      "26 Is an Even number\n",
      "27 Is an Odd number\n",
      "28 Is an Even number\n",
      "29 Is an Odd number\n",
      "30 Is an Even number\n",
      "31 Is an Odd number\n",
      "32 Is an Even number\n",
      "33 Is an Odd number\n",
      "34 Is an Even number\n",
      "35 Is an Odd number\n",
      "36 Is an Even number\n",
      "37 Is an Odd number\n",
      "38 Is an Even number\n",
      "39 Is an Odd number\n",
      "40 Is an Even number\n",
      "41 Is an Odd number\n",
      "42 Is an Even number\n",
      "43 Is an Odd number\n",
      "44 Is an Even number\n",
      "45 Is an Odd number\n",
      "46 Is an Even number\n",
      "47 Is an Odd number\n",
      "48 Is an Even number\n",
      "49 Is an Odd number\n",
      "50 Is an Even number\n",
      "51 Is an Odd number\n",
      "52 Is an Even number\n",
      "53 Is an Odd number\n",
      "54 Is an Even number\n",
      "55 Is an Odd number\n",
      "56 Is an Even number\n",
      "57 Is an Odd number\n",
      "58 Is an Even number\n",
      "59 Is an Odd number\n",
      "60 Is an Even number\n",
      "61 Is an Odd number\n",
      "62 Is an Even number\n",
      "63 Is an Odd number\n",
      "64 Is an Even number\n",
      "65 Is an Odd number\n",
      "66 Is an Even number\n",
      "67 Is an Odd number\n",
      "68 Is an Even number\n",
      "69 Is an Odd number\n",
      "70 Is an Even number\n",
      "71 Is an Odd number\n",
      "72 Is an Even number\n",
      "73 Is an Odd number\n",
      "74 Is an Even number\n",
      "75 Is an Odd number\n",
      "76 Is an Even number\n",
      "77 Is an Odd number\n",
      "78 Is an Even number\n",
      "79 Is an Odd number\n",
      "80 Is an Even number\n",
      "81 Is an Odd number\n",
      "82 Is an Even number\n",
      "83 Is an Odd number\n",
      "84 Is an Even number\n",
      "85 Is an Odd number\n",
      "86 Is an Even number\n",
      "87 Is an Odd number\n",
      "88 Is an Even number\n",
      "89 Is an Odd number\n",
      "90 Is an Even number\n",
      "91 Is an Odd number\n",
      "92 Is an Even number\n",
      "93 Is an Odd number\n",
      "94 Is an Even number\n",
      "95 Is an Odd number\n",
      "96 Is an Even number\n",
      "97 Is an Odd number\n",
      "98 Is an Even number\n",
      "99 Is an Odd number\n",
      "100 Is an Even number\n"
     ]
    }
   ],
   "source": [
    "i=1\n",
    "while(i<=100):\n",
    "    if i%2==0:\n",
    "        print(i,\"Is an Even number\")\n",
    "    else:\n",
    "        print(i,\"Is an Odd number\")\n",
    "    i=i+1"
   ]
  },
  {
   "cell_type": "code",
   "execution_count": 2,
   "metadata": {},
   "outputs": [
    {
     "name": "stdout",
     "output_type": "stream",
     "text": [
      "1\n",
      "4\n",
      "9\n",
      "16\n",
      "25\n",
      "36\n",
      "Out of loop\n"
     ]
    }
   ],
   "source": [
    "count=0\n",
    "while(count<=5):\n",
    "    count=count+1 # pre-incrementation\n",
    "    \n",
    "    print(count**2)\n",
    "    #count=count+1\n",
    "    #count+=1\n",
    "else:\n",
    "    print(\"Out of loop\")"
   ]
  },
  {
   "cell_type": "code",
   "execution_count": 3,
   "metadata": {},
   "outputs": [
    {
     "name": "stdout",
     "output_type": "stream",
     "text": [
      "Hello Nikita\n",
      "Hello Sherish\n",
      "Hello Jyoti\n",
      "Hello Jagruti\n"
     ]
    }
   ],
   "source": [
    "# for loop \n",
    "\n",
    "list_name =[\"Nikita\",\"Sherish\",\"Jyoti\",\"Jagruti\"]\n",
    "for i in list_name:\n",
    "    print(\"Hello\",i)"
   ]
  },
  {
   "cell_type": "code",
   "execution_count": 4,
   "metadata": {},
   "outputs": [
    {
     "name": "stdout",
     "output_type": "stream",
     "text": [
      "1\n",
      "2\n",
      "3\n",
      "4\n",
      "5\n",
      "6\n",
      "7\n",
      "8\n",
      "9\n",
      "10\n"
     ]
    }
   ],
   "source": [
    "for i in range(1,11):\n",
    "    print(i)\n",
    "    "
   ]
  },
  {
   "cell_type": "code",
   "execution_count": 6,
   "metadata": {},
   "outputs": [
    {
     "name": "stdout",
     "output_type": "stream",
     "text": [
      "1 Is odd\n",
      "2 Is even\n",
      "3 Is odd\n",
      "4 Is even\n",
      "5 Is odd\n",
      "6 Is even\n",
      "7 Is odd\n",
      "8 Is even\n",
      "9 Is odd\n",
      "10 Is even\n"
     ]
    }
   ],
   "source": [
    "for i in range(1,11):\n",
    "    if i%2==0:\n",
    "        print(i,\"Is even\")\n",
    "    else:\n",
    "        print(i,\"Is odd\")"
   ]
  },
  {
   "cell_type": "code",
   "execution_count": 7,
   "metadata": {},
   "outputs": [
    {
     "name": "stdout",
     "output_type": "stream",
     "text": [
      "100\n",
      "81\n",
      "64\n",
      "49\n",
      "36\n",
      "25\n",
      "16\n",
      "9\n",
      "4\n",
      "1\n"
     ]
    }
   ],
   "source": [
    "for i in range(1,11)[::-1]:\n",
    "    print(i**2)"
   ]
  },
  {
   "cell_type": "code",
   "execution_count": 8,
   "metadata": {},
   "outputs": [
    {
     "name": "stdout",
     "output_type": "stream",
     "text": [
      "Hello Jagruti\n",
      "Hello Jyoti\n",
      "Hello Sherish\n",
      "Hello Nikita\n"
     ]
    }
   ],
   "source": [
    "list_name =[\"Nikita\",\"Sherish\",\"Jyoti\",\"Jagruti\"]\n",
    "for i in list_name [::-1]:\n",
    "    print(\"Hello\",i)"
   ]
  },
  {
   "cell_type": "code",
   "execution_count": 12,
   "metadata": {},
   "outputs": [
    {
     "data": {
      "text/plain": [
       "'ahkahsiV'"
      ]
     },
     "execution_count": 12,
     "metadata": {},
     "output_type": "execute_result"
    }
   ],
   "source": [
    "name = \"Vishakha\"\n",
    "name[::-1]"
   ]
  },
  {
   "cell_type": "code",
   "execution_count": 14,
   "metadata": {},
   "outputs": [
    {
     "name": "stdout",
     "output_type": "stream",
     "text": [
      "5* 1 = 5\n",
      "5* 2 = 5\n",
      "5* 3 = 5\n",
      "5* 4 = 5\n",
      "5* 5 = 5\n",
      "5* 6 = 5\n",
      "5* 7 = 5\n",
      "5* 8 = 5\n",
      "5* 9 = 5\n",
      "5* 10 = 5\n"
     ]
    }
   ],
   "source": [
    "for i in range(1,11):\n",
    "    print(\"5*\",i,\"=\",5*1)"
   ]
  },
  {
   "cell_type": "code",
   "execution_count": 15,
   "metadata": {},
   "outputs": [
    {
     "name": "stdout",
     "output_type": "stream",
     "text": [
      "5* 1 = 5\n",
      "5* 2 = 5\n",
      "5* 3 = 5\n",
      "5* 4 = 5\n",
      "5* 5 = 5\n",
      "5* 6 = 5\n",
      "5* 7 = 5\n",
      "5* 8 = 5\n",
      "5* 9 = 5\n",
      "5* 10 = 5\n"
     ]
    }
   ],
   "source": [
    "i=1\n",
    "while(i<=10):\n",
    "    print(\"5*\",i,\"=\",5*1)\n",
    "    i=i+1"
   ]
  },
  {
   "cell_type": "markdown",
   "metadata": {},
   "source": [
    "# Data Structure"
   ]
  },
  {
   "cell_type": "markdown",
   "metadata": {},
   "source": [
    "### Numbers"
   ]
  },
  {
   "cell_type": "code",
   "execution_count": 1,
   "metadata": {},
   "outputs": [
    {
     "name": "stdout",
     "output_type": "stream",
     "text": [
      "<class 'int'>\n",
      "<class 'float'>\n",
      "<class 'complex'>\n"
     ]
    }
   ],
   "source": [
    "a=5\n",
    "print(type(a))\n",
    "a=12.5\n",
    "print(type(a))\n",
    "a=10+5j\n",
    "print(type(a))"
   ]
  },
  {
   "cell_type": "code",
   "execution_count": 2,
   "metadata": {},
   "outputs": [],
   "source": [
    "import math    # math is library"
   ]
  },
  {
   "cell_type": "code",
   "execution_count": 5,
   "metadata": {},
   "outputs": [
    {
     "name": "stdout",
     "output_type": "stream",
     "text": [
      "2.0\n",
      "10\n",
      "-10\n",
      "8.0\n",
      "720\n",
      "3.141592653589793\n",
      "3.14\n"
     ]
    }
   ],
   "source": [
    "print(math.sqrt(4))         #Squareroot\n",
    "print(math.floor(10.7))    # nearest lowest integer\n",
    "print(math.ceil(-10.7))    #nearest lighest intege\n",
    "print(math.pow(2,3))        # power\n",
    "print(math.factorial(6))   #factorial 6*5*4*3*2*1\n",
    "print(math.pi)\n",
    "print(round(math.pi,2))    #round function for rounded"
   ]
  },
  {
   "cell_type": "code",
   "execution_count": 7,
   "metadata": {},
   "outputs": [
    {
     "name": "stdout",
     "output_type": "stream",
     "text": [
      "0.8396608502377884\n",
      "61\n",
      "3.7188989309116365\n",
      "4\n"
     ]
    }
   ],
   "source": [
    "import random as rn       # random is liborary, rn is alice of random \n",
    "#rn.seed(10)#--> sets a seed value to generate reproducible output\n",
    "print(rn.random())   # range is 0 to \n",
    "print(rn.randint(1,100))  # returen an integer\n",
    "print(rn.uniform(1,100))  # returen a floot\n",
    "\n",
    "a=[1,2,3,4,5]\n",
    "print(rn.choice(a))  #select a value randomly"
   ]
  },
  {
   "cell_type": "code",
   "execution_count": 8,
   "metadata": {},
   "outputs": [],
   "source": [
    "import numpy as np\n",
    "?np.sqrt           # help to know which function will perform "
   ]
  },
  {
   "cell_type": "markdown",
   "metadata": {},
   "source": [
    "## Strings"
   ]
  },
  {
   "cell_type": "code",
   "execution_count": 9,
   "metadata": {},
   "outputs": [
    {
     "name": "stdout",
     "output_type": "stream",
     "text": [
      "Hello World\n",
      "\"Python is a programming language\n",
      "python is interesting.\n",
      "this is it.\n",
      "Hello \n",
      " World\n"
     ]
    }
   ],
   "source": [
    "my_string = \"Hello World\"\n",
    "print(my_string)\n",
    "my_string = \"\"\"\"Python is a programming language\n",
    "python is interesting.\n",
    "this is it.\"\"\"           # multi line string\n",
    "print(my_string)\n",
    "my_string = \"Hello \\n World\"  \n",
    "print(my_string)"
   ]
  },
  {
   "cell_type": "code",
   "execution_count": 31,
   "metadata": {},
   "outputs": [
    {
     "name": "stdout",
     "output_type": "stream",
     "text": [
      "P\n"
     ]
    }
   ],
   "source": [
    "# Slicing\n",
    "my_string=\"Python is a programming language.Python is interesting.\"\n",
    "print(my_string[0])     #indexing 1 letter i.e it is start indexing from 0"
   ]
  },
  {
   "cell_type": "code",
   "execution_count": 12,
   "metadata": {},
   "outputs": [
    {
     "name": "stdout",
     "output_type": "stream",
     "text": [
      "n\n"
     ]
    }
   ],
   "source": [
    "print(my_string[-3])     # negative indexing start with -1"
   ]
  },
  {
   "cell_type": "code",
   "execution_count": 13,
   "metadata": {},
   "outputs": [
    {
     "name": "stdout",
     "output_type": "stream",
     "text": [
      "hon is \n"
     ]
    }
   ],
   "source": [
    "# [inclusive:exclusive]\n",
    "print(my_string[3:10])     # start indexing from 3 "
   ]
  },
  {
   "cell_type": "code",
   "execution_count": 14,
   "metadata": {},
   "outputs": [
    {
     "name": "stdout",
     "output_type": "stream",
     "text": [
      "Python is a programming l\n"
     ]
    }
   ],
   "source": [
    "print(my_string[:25])         "
   ]
  },
  {
   "cell_type": "code",
   "execution_count": 15,
   "metadata": {},
   "outputs": [
    {
     "name": "stdout",
     "output_type": "stream",
     "text": [
      "anguage.Python is interesting.\n"
     ]
    }
   ],
   "source": [
    "print(my_string[25:])"
   ]
  },
  {
   "cell_type": "code",
   "execution_count": 16,
   "metadata": {},
   "outputs": [
    {
     "name": "stdout",
     "output_type": "stream",
     "text": [
      "anguage.Python is in\n"
     ]
    }
   ],
   "source": [
    "print(my_string[25:-10])"
   ]
  },
  {
   "cell_type": "code",
   "execution_count": 17,
   "metadata": {},
   "outputs": [
    {
     "name": "stdout",
     "output_type": "stream",
     "text": [
      "Python is a programming language.Python is interesting.\n"
     ]
    }
   ],
   "source": [
    "print(my_string[:])       "
   ]
  },
  {
   "cell_type": "code",
   "execution_count": 18,
   "metadata": {},
   "outputs": [
    {
     "ename": "IndexError",
     "evalue": "string index out of range",
     "output_type": "error",
     "traceback": [
      "\u001b[1;31m---------------------------------------------------------------------------\u001b[0m",
      "\u001b[1;31mIndexError\u001b[0m                                Traceback (most recent call last)",
      "\u001b[1;32m~\\AppData\\Local\\Temp\\ipykernel_16064\\1542650593.py\u001b[0m in \u001b[0;36m<module>\u001b[1;34m\u001b[0m\n\u001b[1;32m----> 1\u001b[1;33m \u001b[0mprint\u001b[0m\u001b[1;33m(\u001b[0m\u001b[0mmy_string\u001b[0m\u001b[1;33m[\u001b[0m\u001b[1;36m100\u001b[0m\u001b[1;33m]\u001b[0m\u001b[1;33m)\u001b[0m\u001b[1;33m\u001b[0m\u001b[1;33m\u001b[0m\u001b[0m\n\u001b[0m",
      "\u001b[1;31mIndexError\u001b[0m: string index out of range"
     ]
    }
   ],
   "source": [
    "print(my_string[100])   # index out of range"
   ]
  },
  {
   "cell_type": "code",
   "execution_count": 19,
   "metadata": {},
   "outputs": [
    {
     "name": "stdout",
     "output_type": "stream",
     "text": [
      "55\n"
     ]
    }
   ],
   "source": [
    "print(len(my_string))"
   ]
  },
  {
   "cell_type": "code",
   "execution_count": 20,
   "metadata": {},
   "outputs": [
    {
     "name": "stdout",
     "output_type": "stream",
     "text": [
      "n i a\n"
     ]
    }
   ],
   "source": [
    "print(my_string[5:8],my_string[10])"
   ]
  },
  {
   "cell_type": "code",
   "execution_count": 21,
   "metadata": {},
   "outputs": [
    {
     "ename": "TypeError",
     "evalue": "'str' object does not support item assignment",
     "output_type": "error",
     "traceback": [
      "\u001b[1;31m---------------------------------------------------------------------------\u001b[0m",
      "\u001b[1;31mTypeError\u001b[0m                                 Traceback (most recent call last)",
      "\u001b[1;32m~\\AppData\\Local\\Temp\\ipykernel_16064\\1982657949.py\u001b[0m in \u001b[0;36m<module>\u001b[1;34m\u001b[0m\n\u001b[0;32m      1\u001b[0m \u001b[1;31m#string are immutable\u001b[0m\u001b[1;33m\u001b[0m\u001b[1;33m\u001b[0m\u001b[0m\n\u001b[1;32m----> 2\u001b[1;33m \u001b[0mmy_string\u001b[0m\u001b[1;33m[\u001b[0m\u001b[1;36m3\u001b[0m\u001b[1;33m]\u001b[0m\u001b[1;33m=\u001b[0m\u001b[1;34m\"B\"\u001b[0m\u001b[1;33m\u001b[0m\u001b[1;33m\u001b[0m\u001b[0m\n\u001b[0m",
      "\u001b[1;31mTypeError\u001b[0m: 'str' object does not support item assignment"
     ]
    }
   ],
   "source": [
    "#string are immutable -----> on the basis of indexing\n",
    "my_string[3]=\"B\""
   ]
  },
  {
   "cell_type": "code",
   "execution_count": 23,
   "metadata": {},
   "outputs": [
    {
     "data": {
      "text/plain": [
       "'Python is a programmNg language.Python is NterestNg.'"
      ]
     },
     "execution_count": 23,
     "metadata": {},
     "output_type": "execute_result"
    }
   ],
   "source": [
    "#can replace on the basis of characters but not on the basis of index position\n",
    "my_string=my_string.replace(\"in\",\"N\")  # replace ---> is function\n",
    "my_string"
   ]
  },
  {
   "cell_type": "code",
   "execution_count": 29,
   "metadata": {},
   "outputs": [
    {
     "data": {
      "text/plain": [
       "'Hello WorldPython is a programming language.Python is interesting.'"
      ]
     },
     "execution_count": 29,
     "metadata": {},
     "output_type": "execute_result"
    }
   ],
   "source": [
    "my_string=\"Hello World\" + my_string\n",
    "my_string"
   ]
  },
  {
   "cell_type": "code",
   "execution_count": 32,
   "metadata": {},
   "outputs": [
    {
     "data": {
      "text/plain": [
       "0"
      ]
     },
     "execution_count": 32,
     "metadata": {},
     "output_type": "execute_result"
    }
   ],
   "source": [
    "my_string.find(\"Python\")"
   ]
  },
  {
   "cell_type": "code",
   "execution_count": 33,
   "metadata": {},
   "outputs": [
    {
     "name": "stdout",
     "output_type": "stream",
     "text": [
      "0\n",
      "34\n"
     ]
    }
   ],
   "source": [
    "my_string = \"Python is a programming language. Python is interesting.\"\n",
    "\n",
    "for i in range(len(my_string)):\n",
    "    if my_string.startswith('Python', i):\n",
    "        print(i)\n",
    "\n"
   ]
  },
  {
   "cell_type": "code",
   "execution_count": 37,
   "metadata": {},
   "outputs": [
    {
     "name": "stdout",
     "output_type": "stream",
     "text": [
      "['Python', 'is', 'a', 'programming', 'language.', 'Python', 'is', 'interesting.']\n"
     ]
    }
   ],
   "source": [
    "print(my_string.split(sep=\" \"))  # sep is used for split"
   ]
  },
  {
   "cell_type": "code",
   "execution_count": null,
   "metadata": {},
   "outputs": [],
   "source": [
    "del my_string  # deleteing "
   ]
  },
  {
   "cell_type": "markdown",
   "metadata": {},
   "source": [
    "## List [ ]\n",
    "\n",
    "* mixed datatype are allowed\n",
    "\n",
    "* repetative elements are allowed\n",
    "\n",
    "* it preserve the order\n",
    "\n",
    "* mutable (Changes allowed)\n",
    "\n",
    "* Elements are accessed using indexing"
   ]
  },
  {
   "cell_type": "markdown",
   "metadata": {},
   "source": [
    "## Tuples ( )\n",
    "\n",
    "* mixed datatype are allowed\n",
    "\n",
    "* repetative elements are allowed\n",
    "\n",
    "* it preserve the order\n",
    "\n",
    "* immutable (changes not allowed)\n",
    "\n",
    "* Elements are accessed using indexing\n",
    "\n",
    "* work fasted than list\n"
   ]
  },
  {
   "cell_type": "code",
   "execution_count": 38,
   "metadata": {},
   "outputs": [
    {
     "name": "stdout",
     "output_type": "stream",
     "text": [
      "[1, 2, 3, 4, 2]\n",
      "[1, 4.2, 'python', '123', 4.2, [1, 2, 3, 4, 2]]\n",
      "<class 'list'>\n"
     ]
    }
   ],
   "source": [
    "# python list\n",
    "\n",
    "mylist1=[1,2,3,4,2]\n",
    "\n",
    "mylist2=[1,4.2,\"python\",\"123\",4.2,mylist1]\n",
    "\n",
    "print(mylist1)\n",
    "print(mylist2)\n",
    "print(type(mylist2))"
   ]
  },
  {
   "cell_type": "code",
   "execution_count": 39,
   "metadata": {},
   "outputs": [
    {
     "name": "stdout",
     "output_type": "stream",
     "text": [
      "30\n",
      "[10, 20, 30]\n",
      "[60, 70, 80]\n",
      "30 60\n"
     ]
    }
   ],
   "source": [
    "#use of slicing operator\n",
    "\n",
    "a=[10,20,30,40,50,60,70,80]\n",
    "\n",
    "print(a[2])\n",
    "\n",
    "print(a[0:3])\n",
    "\n",
    "print(a[5:])\n",
    "\n",
    "print(a[2],a[5])"
   ]
  },
  {
   "cell_type": "code",
   "execution_count": 40,
   "metadata": {},
   "outputs": [
    {
     "name": "stdout",
     "output_type": "stream",
     "text": [
      "j\n"
     ]
    }
   ],
   "source": [
    "b=[\"spam\",2.0,5,[10,\"raj\"]]      #----> nested list\n",
    "print(b[3][1][2])"
   ]
  },
  {
   "cell_type": "code",
   "execution_count": 42,
   "metadata": {},
   "outputs": [
    {
     "name": "stdout",
     "output_type": "stream",
     "text": [
      "[10, 20, 30, 'abc', 50, 60, 70, 80]\n"
     ]
    }
   ],
   "source": [
    "#list are mutable\n",
    "# replacing on element on the basis of index number\n",
    "a[3]=\"abc\"\n",
    "print(a)"
   ]
  },
  {
   "cell_type": "code",
   "execution_count": 48,
   "metadata": {},
   "outputs": [
    {
     "name": "stdout",
     "output_type": "stream",
     "text": [
      "[1, 2, 3, 4, 'xyz', 4, 5, 6, 7, 8]\n"
     ]
    }
   ],
   "source": [
    "#appending multiple elements\n",
    "#1.append and 2.extend\n",
    "my_list=[1,2,3,4]\n",
    "\n",
    "my_new_list=[4,5,6,7,8]\n",
    "\n",
    "my_list.append(\"xyz\")  #----> append will always add one element to the list \n",
    "\n",
    "my_list.extend(my_new_list)#----> extend will always add multiple elemets to the list\n",
    "\n",
    "print(my_list)"
   ]
  },
  {
   "cell_type": "code",
   "execution_count": 49,
   "metadata": {},
   "outputs": [
    {
     "name": "stdout",
     "output_type": "stream",
     "text": [
      "[1, 2, 3, 4, 'abc', 'xyz', 4, 5, 6, 7, 8]\n"
     ]
    }
   ],
   "source": [
    "# insert \n",
    "my_list.insert(4,\"abc\")#-----> insert will add element \n",
    "print(my_list)"
   ]
  },
  {
   "cell_type": "code",
   "execution_count": 50,
   "metadata": {},
   "outputs": [
    {
     "name": "stdout",
     "output_type": "stream",
     "text": [
      "[1, 2, 3, 4, 'abc', 'xyz', 4, 5, 7, 8]\n"
     ]
    }
   ],
   "source": [
    "# remove\n",
    "my_list.remove(6)  # removes the given elements\n",
    "print(my_list)"
   ]
  },
  {
   "cell_type": "code",
   "execution_count": null,
   "metadata": {},
   "outputs": [],
   "source": [
    "del my_list[3] # remove the element from the given index positions"
   ]
  },
  {
   "cell_type": "markdown",
   "metadata": {},
   "source": [
    "# Tuples"
   ]
  },
  {
   "cell_type": "code",
   "execution_count": 51,
   "metadata": {},
   "outputs": [
    {
     "name": "stdout",
     "output_type": "stream",
     "text": [
      "(5, 'python', (1, 'alex', 3), 27.9, 5)\n",
      "<class 'tuple'>\n",
      "e\n",
      "27.9\n",
      "('python', (1, 'alex', 3), 27.9)\n"
     ]
    }
   ],
   "source": [
    "a=(5,\"python\",(1,\"alex\",3),27.9,5)\n",
    "print(a)\n",
    "print(type(a))\n",
    "print(a[2][1][2])\n",
    "print(a[3])\n",
    "print(a[1:4])"
   ]
  },
  {
   "cell_type": "code",
   "execution_count": 52,
   "metadata": {},
   "outputs": [
    {
     "name": "stdout",
     "output_type": "stream",
     "text": [
      "(1, 2, 3)\n"
     ]
    }
   ],
   "source": [
    "list1=[1,2,3]\n",
    "tuple1=tuple(list1)\n",
    "print(tuple1)"
   ]
  },
  {
   "cell_type": "code",
   "execution_count": 53,
   "metadata": {},
   "outputs": [
    {
     "name": "stdout",
     "output_type": "stream",
     "text": [
      "[1, 2, 3, 4]\n"
     ]
    }
   ],
   "source": [
    "tuple1=(1,2,3,4)\n",
    "list1=list(tuple1)\n",
    "print(list1)"
   ]
  },
  {
   "cell_type": "code",
   "execution_count": 55,
   "metadata": {},
   "outputs": [
    {
     "data": {
      "text/plain": [
       "('p', 'y', 't', 'h', 'o', 'n')"
      ]
     },
     "execution_count": 55,
     "metadata": {},
     "output_type": "execute_result"
    }
   ],
   "source": [
    "tuple3=tuple(\"python\")\n",
    "tuple3"
   ]
  },
  {
   "cell_type": "code",
   "execution_count": 56,
   "metadata": {},
   "outputs": [
    {
     "ename": "TypeError",
     "evalue": "'tuple' object does not support item assignment",
     "output_type": "error",
     "traceback": [
      "\u001b[1;31m---------------------------------------------------------------------------\u001b[0m",
      "\u001b[1;31mTypeError\u001b[0m                                 Traceback (most recent call last)",
      "\u001b[1;32m~\\AppData\\Local\\Temp\\ipykernel_16064\\558587885.py\u001b[0m in \u001b[0;36m<module>\u001b[1;34m\u001b[0m\n\u001b[0;32m      1\u001b[0m \u001b[1;31m# tuple is immutable\u001b[0m\u001b[1;33m\u001b[0m\u001b[1;33m\u001b[0m\u001b[0m\n\u001b[1;32m----> 2\u001b[1;33m \u001b[0ma\u001b[0m\u001b[1;33m[\u001b[0m\u001b[1;36m2\u001b[0m\u001b[1;33m]\u001b[0m\u001b[1;33m=\u001b[0m\u001b[1;36m0\u001b[0m\u001b[1;33m\u001b[0m\u001b[1;33m\u001b[0m\u001b[0m\n\u001b[0m\u001b[0;32m      3\u001b[0m \u001b[1;32mdel\u001b[0m \u001b[0ma\u001b[0m\u001b[1;33m\u001b[0m\u001b[1;33m\u001b[0m\u001b[0m\n",
      "\u001b[1;31mTypeError\u001b[0m: 'tuple' object does not support item assignment"
     ]
    }
   ],
   "source": [
    "# tuple is immutable \n",
    "a[2]=0\n",
    "del a"
   ]
  },
  {
   "cell_type": "markdown",
   "metadata": {},
   "source": [
    "# sets { }\n",
    "\n",
    "1. mixed datatype are allowed\n",
    "\n",
    "2. unique elelmets are stored (duplicates not allow)\n",
    "\n",
    "3. does not preservw the order\n",
    "\n",
    "4. indexing not supported\n",
    "\n",
    "5. mutable\n",
    "\n",
    "6. Sets are used to store multiple items in a single variable.\n",
    "\n",
    "7. Application :- set operation ---> union/intersection convert a data structure to a set(unique elements)"
   ]
  },
  {
   "cell_type": "code",
   "execution_count": 57,
   "metadata": {},
   "outputs": [
    {
     "name": "stdout",
     "output_type": "stream",
     "text": [
      "{1, 2.0, 3, 4, 38, 72, 10, 16, 'alex'}\n"
     ]
    }
   ],
   "source": [
    "my_set={1,2.0,3,4,3,2,10,\"alex\",38,72,16}\n",
    "print(my_set)"
   ]
  },
  {
   "cell_type": "code",
   "execution_count": 58,
   "metadata": {},
   "outputs": [
    {
     "ename": "TypeError",
     "evalue": "'set' object is not subscriptable",
     "output_type": "error",
     "traceback": [
      "\u001b[1;31m---------------------------------------------------------------------------\u001b[0m",
      "\u001b[1;31mTypeError\u001b[0m                                 Traceback (most recent call last)",
      "\u001b[1;32m~\\AppData\\Local\\Temp\\ipykernel_16064\\2557369708.py\u001b[0m in \u001b[0;36m<module>\u001b[1;34m\u001b[0m\n\u001b[1;32m----> 1\u001b[1;33m \u001b[0mmy_set\u001b[0m\u001b[1;33m[\u001b[0m\u001b[1;36m3\u001b[0m\u001b[1;33m]\u001b[0m\u001b[1;33m\u001b[0m\u001b[1;33m\u001b[0m\u001b[0m\n\u001b[0m",
      "\u001b[1;31mTypeError\u001b[0m: 'set' object is not subscriptable"
     ]
    }
   ],
   "source": [
    "my_set[3]  #-----> sets does not support indexing"
   ]
  },
  {
   "cell_type": "code",
   "execution_count": 59,
   "metadata": {},
   "outputs": [
    {
     "name": "stdout",
     "output_type": "stream",
     "text": [
      "{1, 3}\n"
     ]
    }
   ],
   "source": [
    "# Adding elements\n",
    "my_set = {1,3}\n",
    "print(my_set)"
   ]
  },
  {
   "cell_type": "code",
   "execution_count": 60,
   "metadata": {},
   "outputs": [
    {
     "name": "stdout",
     "output_type": "stream",
     "text": [
      "{8, 1, 3}\n"
     ]
    }
   ],
   "source": [
    "my_set.add(8) #----> Only add one element\n",
    "print(my_set)"
   ]
  },
  {
   "cell_type": "code",
   "execution_count": 61,
   "metadata": {},
   "outputs": [
    {
     "name": "stdout",
     "output_type": "stream",
     "text": [
      "{1, 2, 3, 4, 6, 8}\n"
     ]
    }
   ],
   "source": [
    "my_set.update({6,8,1,4,2}) # -----> pdate will add multiple elements to the set\n",
    "print(my_set)"
   ]
  },
  {
   "cell_type": "code",
   "execution_count": 62,
   "metadata": {},
   "outputs": [
    {
     "name": "stdout",
     "output_type": "stream",
     "text": [
      "{1, 2, 3, 4, 8}\n"
     ]
    }
   ],
   "source": [
    "#deleting Elements\n",
    "my_set.remove(6)\n",
    "print(my_set)"
   ]
  },
  {
   "cell_type": "code",
   "execution_count": 63,
   "metadata": {},
   "outputs": [
    {
     "name": "stdout",
     "output_type": "stream",
     "text": [
      "{1, 2, 3, 4, 5, 6, 7, 8, 9, 10}\n",
      "{4, 5}\n",
      "{1, 2, 3, 9}\n",
      "{8, 10, 6, 7}\n"
     ]
    }
   ],
   "source": [
    "# Union and instersection\n",
    "A =[1,2,3,4,5,9]\n",
    "B =(4,5,6,7,8,10)\n",
    "\n",
    "setA = set(A)\n",
    "setB = set(B)\n",
    "\n",
    "print(setA | setB)\n",
    "# print(setA.union(setB))\n",
    "\n",
    "print(setA & setB)\n",
    "#print(setA.intersection(setB))\n",
    "\n",
    "print(setA-setB)  #A-B\n",
    "print(setB.difference(setA))  #B-A"
   ]
  },
  {
   "cell_type": "markdown",
   "metadata": {},
   "source": [
    "## Dictionaris { }\n",
    "\n",
    "1. Storing data in key and value form\n",
    "2. Mixed datatype allowed\n",
    "3. Keys should be unique\n",
    "4. Preserve the order\n",
    "5. Value should be repetative\n",
    "6. Indexing not supported\n",
    "7. Mutable in nature \n",
    "8. Stored data in meaningful manner.\n",
    "9. Accessing is done by using keys\n",
    "10. a={a:\"Abc\", b:\"xyz\"} ----> A -- key, \"abc\"-- value\n"
   ]
  },
  {
   "cell_type": "code",
   "execution_count": 6,
   "metadata": {},
   "outputs": [
    {
     "name": "stdout",
     "output_type": "stream",
     "text": [
      "{1: 'A', 'B': 2}\n"
     ]
    }
   ],
   "source": [
    "# Creating a dictionary\n",
    "my_d1= {1:\"A\",\"B\":2}          #Mixed datatype allowed\n",
    "print(my_d1)"
   ]
  },
  {
   "cell_type": "code",
   "execution_count": 2,
   "metadata": {},
   "outputs": [
    {
     "name": "stdout",
     "output_type": "stream",
     "text": [
      "{'name': ('John', 'Priya', 'Alex'), 'ID': [2, 4], 'Marks': [47, 45]}\n"
     ]
    }
   ],
   "source": [
    "my_d2 = {\"name\":(\"John\",\"Priya\",\"Alex\"),\"ID\":[2,4],\n",
    "         \"Marks\":[34,45,38],\n",
    "         \"Marks\":[47,45]}\n",
    "print(my_d2)"
   ]
  },
  {
   "cell_type": "code",
   "execution_count": 3,
   "metadata": {},
   "outputs": [
    {
     "name": "stdout",
     "output_type": "stream",
     "text": [
      "('John', 'Priya', 'Alex')\n"
     ]
    }
   ],
   "source": [
    "print(my_d2[\"name\"])"
   ]
  },
  {
   "cell_type": "code",
   "execution_count": 4,
   "metadata": {},
   "outputs": [
    {
     "name": "stdout",
     "output_type": "stream",
     "text": [
      "John 2 47\n"
     ]
    }
   ],
   "source": [
    "print(my_d2[\"name\"][0],my_d2[\"ID\"][0],my_d2[\"Marks\"][0])"
   ]
  },
  {
   "cell_type": "code",
   "execution_count": 7,
   "metadata": {},
   "outputs": [
    {
     "name": "stdout",
     "output_type": "stream",
     "text": [
      "A\n"
     ]
    }
   ],
   "source": [
    "print(my_d1[1])"
   ]
  },
  {
   "cell_type": "code",
   "execution_count": 9,
   "metadata": {},
   "outputs": [
    {
     "name": "stdout",
     "output_type": "stream",
     "text": [
      "{'Name': 'Nikita', 'age': [12, 28, 38]}\n"
     ]
    }
   ],
   "source": [
    "my_d={\"Name\":\"Priya\", \"age\":[12,54,38]}\n",
    "my_d[\"Name\"]=\"Nikita\"\n",
    "my_d[\"age\"][1]=28\n",
    "print(my_d)\n",
    "      "
   ]
  },
  {
   "cell_type": "code",
   "execution_count": 11,
   "metadata": {},
   "outputs": [
    {
     "name": "stdout",
     "output_type": "stream",
     "text": [
      "{'Name': 'Nikita', 'age': [12, 28, 38], 'address': ['Mumbai', 'Pune']}\n"
     ]
    }
   ],
   "source": [
    "my_d[\"address\"]=[\"Mumbai\",\"Pune\"]\n",
    "print(my_d)"
   ]
  },
  {
   "cell_type": "code",
   "execution_count": 13,
   "metadata": {},
   "outputs": [
    {
     "name": "stdout",
     "output_type": "stream",
     "text": [
      "{'Name': 'Nikita', 'age': [12, 38], 'address': ['Mumbai', 'Pune']}\n"
     ]
    }
   ],
   "source": [
    "del my_d[\"age\"][1]\n",
    "print(my_d)"
   ]
  },
  {
   "cell_type": "code",
   "execution_count": 14,
   "metadata": {},
   "outputs": [
    {
     "name": "stdout",
     "output_type": "stream",
     "text": [
      "{'Name': 'Nikita', 'address': ['Mumbai', 'Pune']}\n"
     ]
    }
   ],
   "source": [
    "del my_d[\"age\"]\n",
    "print(my_d)"
   ]
  },
  {
   "cell_type": "code",
   "execution_count": 15,
   "metadata": {},
   "outputs": [
    {
     "name": "stdout",
     "output_type": "stream",
     "text": [
      "{'Name': 'Nikita', 'address': ['Mumbai', 'Pune'], 'age': [12, 38]}\n"
     ]
    }
   ],
   "source": [
    "my_d[\"age\"]=[12,38]\n",
    "print(my_d)"
   ]
  },
  {
   "cell_type": "code",
   "execution_count": 16,
   "metadata": {},
   "outputs": [
    {
     "data": {
      "text/plain": [
       "dict_values(['Nikita', ['Mumbai', 'Pune'], [12, 38]])"
      ]
     },
     "execution_count": 16,
     "metadata": {},
     "output_type": "execute_result"
    }
   ],
   "source": [
    "my_d.values()"
   ]
  },
  {
   "cell_type": "code",
   "execution_count": 18,
   "metadata": {},
   "outputs": [
    {
     "data": {
      "text/plain": [
       "dict_keys(['Name', 'address', 'age'])"
      ]
     },
     "execution_count": 18,
     "metadata": {},
     "output_type": "execute_result"
    }
   ],
   "source": [
    "my_d.keys()"
   ]
  },
  {
   "cell_type": "code",
   "execution_count": 19,
   "metadata": {},
   "outputs": [
    {
     "name": "stdout",
     "output_type": "stream",
     "text": [
      "[(1, 4), (2, 5), (3, 6)]\n"
     ]
    }
   ],
   "source": [
    "a=[1,2,3]  \n",
    "b=(4,5,6)\n",
    "print(list(zip(a,b)))     # zip =merge the datastructure element position vise (using list function)"
   ]
  },
  {
   "cell_type": "code",
   "execution_count": 24,
   "metadata": {},
   "outputs": [
    {
     "name": "stdout",
     "output_type": "stream",
     "text": [
      "{1: 4, 2: 5, 3: 6}\n"
     ]
    }
   ],
   "source": [
    "a=[1,2,3]  \n",
    "b=(4,5,6)\n",
    "\n",
    "print(dict(zip(a,b)))   #using dict function  \n"
   ]
  },
  {
   "cell_type": "code",
   "execution_count": null,
   "metadata": {},
   "outputs": [],
   "source": []
  },
  {
   "cell_type": "code",
   "execution_count": null,
   "metadata": {},
   "outputs": [],
   "source": []
  },
  {
   "cell_type": "code",
   "execution_count": null,
   "metadata": {},
   "outputs": [],
   "source": []
  },
  {
   "cell_type": "code",
   "execution_count": null,
   "metadata": {},
   "outputs": [],
   "source": []
  },
  {
   "cell_type": "code",
   "execution_count": null,
   "metadata": {},
   "outputs": [],
   "source": []
  },
  {
   "cell_type": "code",
   "execution_count": null,
   "metadata": {},
   "outputs": [],
   "source": []
  },
  {
   "cell_type": "code",
   "execution_count": null,
   "metadata": {},
   "outputs": [],
   "source": []
  },
  {
   "cell_type": "code",
   "execution_count": null,
   "metadata": {},
   "outputs": [],
   "source": []
  }
 ],
 "metadata": {
  "kernelspec": {
   "display_name": "Python 3",
   "language": "python",
   "name": "python3"
  },
  "language_info": {
   "codemirror_mode": {
    "name": "ipython",
    "version": 3
   },
   "file_extension": ".py",
   "mimetype": "text/x-python",
   "name": "python",
   "nbconvert_exporter": "python",
   "pygments_lexer": "ipython3",
   "version": "3.7.6"
  }
 },
 "nbformat": 4,
 "nbformat_minor": 5
}
